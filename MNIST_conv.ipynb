{
  "nbformat": 4,
  "nbformat_minor": 0,
  "metadata": {
    "kernelspec": {
      "display_name": "Python 3",
      "language": "python",
      "name": "python3"
    },
    "language_info": {
      "codemirror_mode": {
        "name": "ipython",
        "version": 3
      },
      "file_extension": ".py",
      "mimetype": "text/x-python",
      "name": "python",
      "nbconvert_exporter": "python",
      "pygments_lexer": "ipython3",
      "version": "3.7.4"
    },
    "colab": {
      "name": "Copy of MNIST_conv.ipynb",
      "provenance": [],
      "include_colab_link": true
    }
  },
  "cells": [
    {
      "cell_type": "markdown",
      "metadata": {
        "id": "view-in-github",
        "colab_type": "text"
      },
      "source": [
        "<a href=\"https://colab.research.google.com/github/alpharomeo7/rob_mnist/blob/master/MNIST_conv.ipynb\" target=\"_parent\"><img src=\"https://colab.research.google.com/assets/colab-badge.svg\" alt=\"Open In Colab\"/></a>"
      ]
    },
    {
      "cell_type": "code",
      "metadata": {
        "id": "4qiEbXz32vW5"
      },
      "source": [
        "import tensorflow as tf\n",
        "\n",
        "from tensorflow.keras.layers import Dense, Flatten, Conv2D\n",
        "from tensorflow.keras import Model"
      ],
      "execution_count": 1,
      "outputs": []
    },
    {
      "cell_type": "code",
      "metadata": {
        "id": "BqYA38-U2vW_"
      },
      "source": [
        "from pathlib import Path\n",
        "import requests\n",
        "import pickle\n",
        "import gzip\n",
        "def load_data(): \n",
        "  DATA_PATH = Path(\"data\")\n",
        "  PATH = DATA_PATH / \"mnist\"\n",
        "\n",
        "  PATH.mkdir(parents=True, exist_ok=True)\n",
        "\n",
        "  URL = \"https://github.com/pytorch/tutorials/raw/master/_static/\"\n",
        "  FILENAME = \"mnist.pkl.gz\"\n",
        "\n",
        "  if not (PATH / FILENAME).exists():\n",
        "          content = requests.get(URL + FILENAME).content\n",
        "          (PATH / FILENAME).open(\"wb\").write(content)\n",
        "\n",
        "  with gzip.open((PATH / FILENAME).as_posix(), \"rb\") as f:\n",
        "          return pickle.load(f, encoding=\"latin-1\")\n",
        "\n",
        "\n",
        "((x_train, y_train), (x_valid, y_valid), (x_test, y_test)) = load_data()"
      ],
      "execution_count": 3,
      "outputs": []
    },
    {
      "cell_type": "code",
      "metadata": {
        "id": "7geIl6nM2vXA"
      },
      "source": [
        "import numpy as np\n",
        "convx_train =  np.reshape(x_train, (x_train.shape[0], 28,28))\n",
        "convx_test =  np.reshape(x_test, (x_test.shape[0], 28,28))\n",
        "\n",
        "convx_train = convx_train[..., tf.newaxis].astype(\"float32\")\n",
        "convx_test = convx_test[..., tf.newaxis].astype(\"float32\")"
      ],
      "execution_count": 4,
      "outputs": []
    },
    {
      "cell_type": "code",
      "metadata": {
        "id": "3SJ4u6CS2vXB"
      },
      "source": [
        "train_ds = tf.data.Dataset.from_tensor_slices(\n",
        "    (convx_train, y_train)).shuffle(10000).batch(32)\n",
        "\n",
        "test_ds = tf.data.Dataset.from_tensor_slices((convx_test, y_test)).batch(32)"
      ],
      "execution_count": 5,
      "outputs": []
    },
    {
      "cell_type": "code",
      "metadata": {
        "id": "GO9FnjYY2vXB"
      },
      "source": [
        "class MyModel(Model):\n",
        "    def __init__(self):\n",
        "        super(MyModel, self).__init__()\n",
        "        self.conv1 = Conv2D(32, 3, activation='relu')\n",
        "        self.flatten = Flatten()\n",
        "        self.d1 = Dense(128, activation='relu')\n",
        "        self.d2 = Dense(10)\n",
        "        \n",
        "    def call(self, x):\n",
        "        x = self.conv1(x)\n",
        "        x = self.flatten(x)\n",
        "        x = self.d1(x)\n",
        "        return self.d2(x)\n",
        "\n",
        "# Create an instance of the model\n",
        "model = MyModel()"
      ],
      "execution_count": 6,
      "outputs": []
    },
    {
      "cell_type": "code",
      "metadata": {
        "id": "JkNgwWdA2vXC"
      },
      "source": [
        "loss_object = tf.keras.losses.SparseCategoricalCrossentropy(from_logits=True)\n",
        "optimizer = tf.keras.optimizers.Adam()\n",
        "train_loss = tf.keras.metrics.Mean(name='train_loss')\n",
        "train_accuracy = tf.keras.metrics.SparseCategoricalAccuracy(name='train_accuracy')\n",
        "test_loss = tf.keras.metrics.Mean(name='test_loss')\n",
        "test_accuracy = tf.keras.metrics.SparseCategoricalAccuracy(name='test_accuracy')\n",
        "\n",
        "@tf.function\n",
        "def train_step(images, labels):\n",
        "    with tf.GradientTape() as tape:\n",
        "    # training=True is only needed if there are layers with different\n",
        "    # behavior during training versus inference (e.g. Dropout).\n",
        "        predictions = model(images, training=True)\n",
        "        loss = loss_object(labels, predictions)\n",
        "    gradients = tape.gradient(loss, model.trainable_variables)\n",
        "    optimizer.apply_gradients(zip(gradients, model.trainable_variables))\n",
        "\n",
        "    train_loss(loss)\n",
        "    train_accuracy(labels, predictions)\n",
        "    \n",
        "@tf.function\n",
        "def test_step(images, labels):\n",
        "  # training=False is only needed if there are layers with different\n",
        "  # behavior during training versus inference (e.g. Dropout).\n",
        "    predictions = model(images, training=False)\n",
        "    t_loss = loss_object(labels, predictions)\n",
        "\n",
        "    test_loss(t_loss)\n",
        "    test_accuracy(labels, predictions)\n"
      ],
      "execution_count": 8,
      "outputs": []
    },
    {
      "cell_type": "code",
      "metadata": {
        "id": "-QaojmjZ2vXD",
        "colab": {
          "base_uri": "https://localhost:8080/"
        },
        "outputId": "89cbb13e-8a9f-4a9f-91b7-3ade74a2b83d"
      },
      "source": [
        "EPOCHS = 5\n",
        "\n",
        "for epoch in range(EPOCHS):\n",
        "    # Reset the metrics at the start of the next epoch\n",
        "    train_loss.reset_states()\n",
        "    train_accuracy.reset_states()\n",
        "    test_loss.reset_states()\n",
        "    test_accuracy.reset_states()\n",
        "\n",
        "    for images, labels in train_ds:\n",
        "        train_step(images, labels)\n",
        "\n",
        "    for test_images, test_labels in test_ds:\n",
        "        test_step(test_images, test_labels)\n",
        "\n",
        "    print(\n",
        "    f'Epoch {epoch + 1}, '\n",
        "    f'Loss: {train_loss.result()}, '\n",
        "    f'Accuracy: {train_accuracy.result() * 100}, '\n",
        "    f'Test Loss: {test_loss.result()}, '\n",
        "    f'Test Accuracy: {test_accuracy.result() * 100}'\n",
        "    )"
      ],
      "execution_count": 9,
      "outputs": [
        {
          "output_type": "stream",
          "text": [
            "Epoch 1, Loss: 0.14551937580108643, Accuracy: 95.59400177001953, Test Loss: 0.07758539915084839, Test Accuracy: 97.5999984741211\n",
            "Epoch 2, Loss: 0.04224982112646103, Accuracy: 98.66200256347656, Test Loss: 0.05657080188393593, Test Accuracy: 98.13999938964844\n",
            "Epoch 3, Loss: 0.020944489166140556, Accuracy: 99.35399627685547, Test Loss: 0.056291673332452774, Test Accuracy: 98.20999908447266\n",
            "Epoch 4, Loss: 0.013229665346443653, Accuracy: 99.57200622558594, Test Loss: 0.06472153961658478, Test Accuracy: 98.38999938964844\n",
            "Epoch 5, Loss: 0.010260367766022682, Accuracy: 99.66400146484375, Test Loss: 0.0811733528971672, Test Accuracy: 97.90999603271484\n"
          ],
          "name": "stdout"
        }
      ]
    },
    {
      "cell_type": "code",
      "metadata": {
        "id": "gBXFmchy2vXE"
      },
      "source": [
        "def reshape_conv_data(x): \n",
        "  x = np.reshape(x, (x.shape[0], 28,28))\n",
        "  return x[..., tf.newaxis].astype(\"float32\") \n",
        "\n",
        "def predict(x_test): \n",
        "  x_test = reshape_conv_data(x_test)\n",
        "  probabilities = model(x_test, training=False)\n",
        "  predictions = [np.argmax(prediction) for prediction in probabilities]\n",
        "  return predictions"
      ],
      "execution_count": 12,
      "outputs": []
    },
    {
      "cell_type": "code",
      "metadata": {
        "id": "5NeOgtbt2vXE"
      },
      "source": [
        "#Reload data \n",
        "def load_data(): \n",
        "  DATA_PATH = Path(\"data\")\n",
        "  PATH = DATA_PATH / \"mnist\"\n",
        "\n",
        "  PATH.mkdir(parents=True, exist_ok=True)\n",
        "\n",
        "  URL = \"https://github.com/pytorch/tutorials/raw/master/_static/\"\n",
        "  FILENAME = \"mnist.pkl.gz\"\n",
        "\n",
        "  if not (PATH / FILENAME).exists():\n",
        "          content = requests.get(URL + FILENAME).content\n",
        "          (PATH / FILENAME).open(\"wb\").write(content)\n",
        "\n",
        "  with gzip.open((PATH / FILENAME).as_posix(), \"rb\") as f:\n",
        "          return pickle.load(f, encoding=\"latin-1\")\n",
        "\n",
        "\n",
        "((x_train, y_train), (x_valid, y_valid), (x_test, y_test)) = load_data()"
      ],
      "execution_count": 13,
      "outputs": []
    },
    {
      "cell_type": "code",
      "metadata": {
        "colab": {
          "base_uri": "https://localhost:8080/"
        },
        "id": "vfLI_4f9AIyu",
        "outputId": "964cb1f9-d4c9-4620-a372-eb46e3f1dcfc"
      },
      "source": [
        "np.sum(predict(x_test) == y_test)/len(y_test)"
      ],
      "execution_count": 16,
      "outputs": [
        {
          "output_type": "execute_result",
          "data": {
            "text/plain": [
              "0.9791"
            ]
          },
          "metadata": {
            "tags": []
          },
          "execution_count": 16
        }
      ]
    }
  ]
}